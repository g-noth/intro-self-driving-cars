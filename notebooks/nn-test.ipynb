{
 "cells": [
  {
   "cell_type": "code",
   "execution_count": 1,
   "metadata": {},
   "outputs": [],
   "source": [
    "import numpy as np\n",
    "from flask import Flask, request"
   ]
  },
  {
   "cell_type": "markdown",
   "metadata": {},
   "source": [
    "# Numpy Feed Forward NN"
   ]
  },
  {
   "cell_type": "code",
   "execution_count": 2,
   "metadata": {},
   "outputs": [],
   "source": [
    "# Define the Level class as structure for the NN (layers)\n",
    "class Level:\n",
    "    def __init__(self, input_count, output_count):\n",
    "        self.inputs = np.zeros(input_count)\n",
    "        self.outputs = np.zeros(output_count)\n",
    "        self.biases = np.random.uniform(-1, 1, output_count)\n",
    "        self.weights = np.random.uniform(-1, 1, (input_count, output_count))\n",
    "\n",
    "    def feed_forward(self, given_inputs):\n",
    "        self.inputs = given_inputs\n",
    "        sum = np.dot(self.inputs, self.weights)\n",
    "        self.outputs = np.where(sum > self.biases, 1, 0)\n",
    "        return self.outputs\n",
    "\n",
    "# Define the NN\n",
    "class NeuralNetwork:\n",
    "    def __init__(self, neuron_counts):\n",
    "        self.levels = [Level(neuron_counts[i], neuron_counts[i+1]) for i in range(len(neuron_counts)-1)]\n",
    "\n",
    "    def feed_forward(self, given_inputs):\n",
    "        outputs = self.levels[0].feed_forward(given_inputs)\n",
    "        for i in range(1, len(self.levels)):\n",
    "            outputs = self.levels[i].feed_forward(outputs)\n",
    "        return outputs\n",
    "\n",
    "    def mutate(self, amount=1):\n",
    "        for level in self.levels:\n",
    "            level.biases = self.lerp(level.biases, np.random.uniform(-1, 1, len(level.biases)), amount)\n",
    "            for i in range(len(level.weights)):\n",
    "                for j in range(len(level.weights[i])):\n",
    "                    level.weights[i][j] = self.lerp(level.weights[i][j], np.random.uniform(-1, 1), amount)\n",
    "\n",
    "    def lerp(self, start, end, amount):\n",
    "        return (1 - amount) * start + amount * end"
   ]
  },
  {
   "cell_type": "markdown",
   "metadata": {},
   "source": [
    "# API Endpoint (Frontend -> Backend -> Frontend)\n",
    "\n",
    " The /drive endpoint accepts POST requests with sensor data from the initialized car (given_inputs). The given_inputs should be a list or a 1-dimensional numpy array of numbers, where each number represents the distance from the car to an obstacle detected by a sensor ray. The length of this list or array should match the number of input neurons in the neural network (in this case 5 input nodes).\n",
    "\n",
    " The input_array comes from the sensor data by the Sensor class which uses ray casting to detect obstacles around the car. For each ray (5), it calculates the intersection with the road borders and traffic and returns the distance to the closest intersection point. This distance is then used as an input for the neural network.\n",
    "\n",
    "- given_inputs[0] = Distance to the closest obstacle detected by the first ray (leftmost)\n",
    "- given_inputs[1] = Distance to the closest obstacle detected by the second ray\n",
    "- given_inputs[2] = Distance to the closest obstacle detected by the third ray\n",
    "- given_inputs[3] = Distance to the closest obstacle detected by the fourth ray\n",
    "- given_inputs[4] = Distance to the closest obstacle detected by the fifth ray (rightmost)\n",
    "\n",
    " It feeds the sensor data through the neural network and returns the actions (outputs) as a response. The outputs is a list of binary values (0 or 1), where each value corresponds to a control action for the car:\n",
    "\n",
    " - outputs[0] = controls.forward, \n",
    " - outputs[1] = controls.left, \n",
    " - outputs[2] = controls.right, \n",
    " - outputs[3] = controls.reverse. \n",
    "\n",
    "\n",
    "In the video he uses 5 input nodes, 6 nodes in one single hidden layer and 4 output nodes into the car class.\n",
    "\n",
    "The outputs of the NN are fed to the update method. Then we must connect the outputs to the controls (control.js) in the main.js (\"AI\"). The car class gets an attribute useBrain with controltype = \"AI\".\n",
    "\n",
    "Initialize 100 cars and store the best performing car brain (bestCar, bestBrain) in localStorage (highest up on straight roads as fitness function (RL!)). Mutate the best performing car by x%.\n",
    " "
   ]
  },
  {
   "cell_type": "markdown",
   "metadata": {},
   "source": [
    "## PyTorch"
   ]
  },
  {
   "cell_type": "code",
   "execution_count": null,
   "metadata": {},
   "outputs": [],
   "source": [
    "import torch\n",
    "import torch.nn as nn\n",
    "import torch.nn.functional as F"
   ]
  },
  {
   "cell_type": "code",
   "execution_count": null,
   "metadata": {},
   "outputs": [],
   "source": [
    "class Net(nn.Module):\n",
    "    def __init__(self):\n",
    "        super(Net, self).__init__()\n",
    "        self.fc1 = nn.Linear(5, 6)  # 5 input nodes, 6 nodes in hidden layer\n",
    "        self.fc2 = nn.Linear(6, 4)  # 6 nodes in hidden layer, 4 output nodes\n",
    "\n",
    "    def forward(self, x):\n",
    "        x = F.relu(self.fc1(x))\n",
    "        x = self.fc2(x)\n",
    "        return x"
   ]
  },
  {
   "cell_type": "markdown",
   "metadata": {},
   "source": [
    "# Call NN \n",
    "\n",
    "Must be integrated into main.\n",
    "\n",
    "Send input to flask server and NN:"
   ]
  },
  {
   "cell_type": "code",
   "execution_count": 12,
   "metadata": {},
   "outputs": [
    {
     "name": "stdout",
     "output_type": "stream",
     "text": [
      " * Serving Flask app '__main__'\n",
      " * Debug mode: off\n"
     ]
    },
    {
     "name": "stderr",
     "output_type": "stream",
     "text": [
      "WARNING: This is a development server. Do not use it in a production deployment. Use a production WSGI server instead.\n",
      " * Running on all addresses (0.0.0.0)\n",
      " * Running on http://127.0.0.1:5000\n",
      " * Running on http://192.168.0.127:5000\n",
      "Press CTRL+C to quit\n",
      "127.0.0.1 - - [24/Apr/2024 18:28:38] \"GET / HTTP/1.1\" 404 -\n",
      "127.0.0.1 - - [24/Apr/2024 18:28:38] \"GET /favicon.ico HTTP/1.1\" 404 -\n",
      "192.168.0.127 - - [24/Apr/2024 18:28:42] \"GET / HTTP/1.1\" 404 -\n",
      "192.168.0.127 - - [24/Apr/2024 18:28:42] \"GET /favicon.ico HTTP/1.1\" 404 -\n"
     ]
    }
   ],
   "source": [
    "from flask import Flask, request, jsonify\n",
    "app = Flask(__name__)\n",
    "\n",
    "@app.route('/drive', methods=['POST'])\n",
    "def drive():\n",
    "    data = request.get_json()\n",
    "    given_inputs = torch.tensor(data['given_inputs']).float()\n",
    "    net = Net()\n",
    "    outputs = net(given_inputs)\n",
    "    return jsonify(outputs.tolist())"
   ]
  },
  {
   "cell_type": "markdown",
   "metadata": {},
   "source": [
    "Send output to frontend"
   ]
  },
  {
   "cell_type": "code",
   "execution_count": null,
   "metadata": {
    "vscode": {
     "languageId": "javascript"
    }
   },
   "outputs": [],
   "source": [
    "let given_inputs = [/* sensor data */];\n",
    "fetch('/drive', {\n",
    "  method: 'POST',\n",
    "  headers: {\n",
    "    'Content-Type': 'application/json',\n",
    "  },\n",
    "  body: JSON.stringify({given_inputs}),\n",
    "})\n",
    ".then(response => response.json())\n",
    ".then(outputs => {\n",
    "  // Use the outputs to control the car\n",
    "});"
   ]
  }
 ],
 "metadata": {
  "kernelspec": {
   "display_name": "self-driving-cars-venv",
   "language": "python",
   "name": "python3"
  },
  "language_info": {
   "codemirror_mode": {
    "name": "ipython",
    "version": 3
   },
   "file_extension": ".py",
   "mimetype": "text/x-python",
   "name": "python",
   "nbconvert_exporter": "python",
   "pygments_lexer": "ipython3",
   "version": "3.12.3"
  }
 },
 "nbformat": 4,
 "nbformat_minor": 2
}
